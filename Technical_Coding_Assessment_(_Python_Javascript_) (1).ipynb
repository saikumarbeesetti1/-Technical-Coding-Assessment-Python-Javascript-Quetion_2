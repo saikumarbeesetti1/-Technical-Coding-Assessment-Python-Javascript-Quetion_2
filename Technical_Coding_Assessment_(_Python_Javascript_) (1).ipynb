{
  "cells": [
    {
      "cell_type": "markdown",
      "source": [
        "#  ﻿Your task is to complete the validate_triangle and validate_rectangle functions for the classes.Hint for validating is given in the comments of the code. Also you will have to print the following after validation in respective functions:-\n",
        "\n",
        "1.Invalid Triangle: If the triangle sum property of sides is not valid(More hint in the comments of code)\n",
        "\n",
        "2.Valid Triangle:If the triangle sum property of sides is valid.\n",
        "\n",
        "3.Valid Rectangle:If 2 side pairs are same and they are input in correct order like l,b,l,b\n",
        "\n",
        "4.Invalid Rectangle: If Not Valid rectangle as stated above.\n",
        "\n",
        "Input Format:\n",
        "\n",
        "The side length of triangle followed by for rectangle in the next line in order.\n",
        "\n",
        "Output Format:\n",
        "\n",
        "since object are created in order, so first validate info about triangle will come and than rectangle.\n",
        "\n",
        "Sample Input 0:\n",
        "\n",
        "3 4 5\n",
        "\n",
        "2 4 2 4\n",
        "\n",
        "Sample Output 0:\n",
        "\n",
        "Valid Triangle\n",
        "\n",
        "Valid Rectangle\n",
        "\n"
      ],
      "metadata": {
        "id": "PBrLwHIK5UMC"
      }
    },
    {
      "cell_type": "code",
      "source": [
        "def triangle(a1, a2, a3):\n",
        "  if (a1 + a2 <= a3) or (a1 + a3 <= a2) or (a2 + a1 <= a3):\n",
        "    return False \n",
        "  else :\n",
        "    return True                                            \n",
        "a1 = 3\n",
        "a2 = 4\n",
        "a3 = 5\n",
        "if triangle(a1, a2, a3):\n",
        "    print(\"Valid Triangle\")\n",
        "else:\n",
        "    print(\"Invalid Triangle\")\n",
        "\n",
        "\n",
        "#                          /\\\n",
        "#                         /  \\\n",
        "#                        /    \\\n",
        "#                       /      \\\n",
        "#                      /________\\\n",
        "\n",
        "\n",
        "def Rectangle(a1, b1, a2, b2):\n",
        "  if (a1 == a2) or (b2 == a2):\n",
        "    return True\n",
        "  else: \n",
        "    return False\n",
        "\n",
        "a1 = 2\n",
        "b1 = 4\n",
        "a2 = 2\n",
        "b2 = 4\n",
        "\n",
        "if Rectangle(a1, b1, a2, b2):\n",
        "    print(\"Valid Recatngle\")\n",
        "else:\n",
        "    print(\"Invalid Rectangle\")\n",
        "\n",
        "#                           _______________\n",
        "#                          |               |\n",
        "#                          |               |\n",
        "#                          |               |\n",
        "#                          |_______________|"
      ],
      "metadata": {
        "id": "6FpO15CQxNge",
        "colab": {
          "base_uri": "https://localhost:8080/"
        },
        "outputId": "54b78c29-0d3f-4216-81f6-bc9da5197586"
      },
      "execution_count": 30,
      "outputs": [
        {
          "output_type": "stream",
          "name": "stdout",
          "text": [
            "Valid Triangle\n",
            "Valid Recatngle\n"
          ]
        }
      ]
    }
  ],
  "metadata": {
    "colab": {
      "collapsed_sections": [],
      "provenance": []
    },
    "kernelspec": {
      "display_name": "Python 3",
      "name": "python3"
    }
  },
  "nbformat": 4,
  "nbformat_minor": 0
}